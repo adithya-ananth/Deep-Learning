{
  "nbformat": 4,
  "nbformat_minor": 0,
  "metadata": {
    "colab": {
      "provenance": [],
      "authorship_tag": "ABX9TyPoTBFVQ7Q1xHIk1nIpl4rq",
      "include_colab_link": true
    },
    "kernelspec": {
      "name": "python3",
      "display_name": "Python 3"
    },
    "language_info": {
      "name": "python"
    }
  },
  "cells": [
    {
      "cell_type": "markdown",
      "metadata": {
        "id": "view-in-github",
        "colab_type": "text"
      },
      "source": [
        "<a href=\"https://colab.research.google.com/github/adithya-ananth/Deep-Learning/blob/main/NN_from_Scratch.ipynb\" target=\"_parent\"><img src=\"https://colab.research.google.com/assets/colab-badge.svg\" alt=\"Open In Colab\"/></a>"
      ]
    },
    {
      "cell_type": "code",
      "execution_count": 126,
      "metadata": {
        "id": "VA1AgOVXR-3I"
      },
      "outputs": [],
      "source": [
        "import numpy as np\n",
        "import pandas as pd"
      ]
    },
    {
      "cell_type": "code",
      "source": [
        "# random generator instance\n",
        "rg = np.random.default_rng(seed=42)\n",
        "\n",
        "def generate_data(n_features, n_values):\n",
        "  features = rg.random((n_features, n_values))\n",
        "  weights = rg.random((1, n_values))[0]\n",
        "  targets = np.random.choice([0,1], n_features)\n",
        "\n",
        "  data = pd.DataFrame(features, columns=[\"x0\",\"x1\",\"x2\",\"x3\",\"x4\",\"x5\",\"x6\"])\n",
        "  data[\"Targets\"] = targets\n",
        "\n",
        "  return data, weights"
      ],
      "metadata": {
        "id": "_04pgJarSvFI"
      },
      "execution_count": 127,
      "outputs": []
    },
    {
      "cell_type": "code",
      "source": [
        "# get summation of w*x + b (f=wx+b)\n",
        "def get_weighted_sum(feature, weights, bias):\n",
        "  return np.dot(feature, weights) + bias"
      ],
      "metadata": {
        "id": "KRWhCpxBX1uR"
      },
      "execution_count": 128,
      "outputs": []
    },
    {
      "cell_type": "code",
      "source": [
        "# apply sigmoid function\n",
        "def sigmoid(weighted_sum):\n",
        "  return 1 / (1 + np.exp(-weighted_sum))"
      ],
      "metadata": {
        "id": "6LrIyc4VZOM5"
      },
      "execution_count": 129,
      "outputs": []
    },
    {
      "cell_type": "code",
      "source": [
        "# use cross-entropy loss\n",
        "def cross_entropy_loss(target, output):\n",
        "  return -target * np.log10(output) - (1 - target) * np.log10(1 - output)"
      ],
      "metadata": {
        "id": "NzxHmqWAZUnb"
      },
      "execution_count": 130,
      "outputs": []
    },
    {
      "cell_type": "code",
      "source": [
        "# gradient descent for weights\n",
        "def update_weights(weights, learning_rate, target, prediction, feature):\n",
        "  new_weights = []\n",
        "  for x, w in zip(feature, weights):\n",
        "    new_weights.append(w + learning_rate * (target - prediction) * x)\n",
        "\n",
        "  return new_weights"
      ],
      "metadata": {
        "id": "LyD9gbIjesGy"
      },
      "execution_count": 131,
      "outputs": []
    },
    {
      "cell_type": "code",
      "source": [
        "# gradient descent for bias\n",
        "def update_bias(bias, learning_rate, target, prediction):\n",
        "  return bias + learning_rate * (target - prediction)"
      ],
      "metadata": {
        "id": "XCwf4H08jx-Q"
      },
      "execution_count": 132,
      "outputs": []
    },
    {
      "cell_type": "code",
      "source": [
        "bias = 0.5\n",
        "learning_rate = 0.01\n",
        "epochs = 50\n",
        "epoch_loss = []\n",
        "\n",
        "data, weights = generate_data(50,7)\n",
        "\n",
        "def train_model(data, weights, bias, leanring_rate, epochs):\n",
        "  for e in range(epochs):\n",
        "    losses = []\n",
        "    for i in range(len(data)):\n",
        "      # slice last column\n",
        "      feature = data.iloc[i][:-1]\n",
        "      target = data.iloc[i][-1]\n",
        "\n",
        "      w_sum = get_weighted_sum(feature, weights, bias)\n",
        "      prediction = sigmoid(w_sum)\n",
        "\n",
        "      loss = cross_entropy_loss(target, prediction)\n",
        "      losses.append(loss)\n",
        "\n",
        "      # graident descent\n",
        "      weights = update_weights(weights, learning_rate, target, prediction, feature)\n",
        "      bias = update_bias(bias, learning_rate, target, prediction)\n",
        "\n",
        "    avg_loss = np.mean(losses)\n",
        "    epoch_loss.append(avg_loss)\n",
        "    print(\"*******************************\")\n",
        "    print(f\"Epoch {e+1} loss: {avg_loss}\")"
      ],
      "metadata": {
        "id": "5scCyb-DYaw3"
      },
      "execution_count": 133,
      "outputs": []
    },
    {
      "cell_type": "code",
      "source": [
        "train_model(data, weights, bias, learning_rate, epochs)"
      ],
      "metadata": {
        "colab": {
          "base_uri": "https://localhost:8080/"
        },
        "id": "um7z2crWmuba",
        "outputId": "57908eb4-d36c-4e12-d6f4-e5b06ae73b8f"
      },
      "execution_count": 134,
      "outputs": [
        {
          "output_type": "stream",
          "name": "stdout",
          "text": [
            "*******************************\n",
            "Epoch 1 loss: 0.49072915069989487\n",
            "*******************************\n",
            "Epoch 2 loss: 0.42137247209442114\n",
            "*******************************\n",
            "Epoch 3 loss: 0.3731470402076048\n",
            "*******************************\n",
            "Epoch 4 loss: 0.34265423587626936\n",
            "*******************************\n",
            "Epoch 5 loss: 0.32475225715777173\n",
            "*******************************\n",
            "Epoch 6 loss: 0.3147230977504339\n",
            "*******************************\n",
            "Epoch 7 loss: 0.3092187550690615\n",
            "*******************************\n",
            "Epoch 8 loss: 0.30618962935759214\n",
            "*******************************\n",
            "Epoch 9 loss: 0.30448110019454067\n",
            "*******************************\n",
            "Epoch 10 loss: 0.30347100721001263\n",
            "*******************************\n",
            "Epoch 11 loss: 0.30283127570121027\n",
            "*******************************\n",
            "Epoch 12 loss: 0.30239027047718114\n",
            "*******************************\n",
            "Epoch 13 loss: 0.30205811053740345\n",
            "*******************************\n",
            "Epoch 14 loss: 0.30178736896923947\n",
            "*******************************\n",
            "Epoch 15 loss: 0.3015526864861816\n",
            "*******************************\n",
            "Epoch 16 loss: 0.3013402489956876\n",
            "*******************************\n",
            "Epoch 17 loss: 0.3011423509883891\n",
            "*******************************\n",
            "Epoch 18 loss: 0.3009545707672014\n",
            "*******************************\n",
            "Epoch 19 loss: 0.3007742882839108\n",
            "*******************************\n",
            "Epoch 20 loss: 0.3005998964891612\n",
            "*******************************\n",
            "Epoch 21 loss: 0.3004303739598445\n",
            "*******************************\n",
            "Epoch 22 loss: 0.3002650480480889\n",
            "*******************************\n",
            "Epoch 23 loss: 0.3001034601507489\n",
            "*******************************\n",
            "Epoch 24 loss: 0.2999452868450127\n",
            "*******************************\n",
            "Epoch 25 loss: 0.2997902923387211\n",
            "*******************************\n",
            "Epoch 26 loss: 0.2996382989623066\n",
            "*******************************\n",
            "Epoch 27 loss: 0.29948916836409323\n",
            "*******************************\n",
            "Epoch 28 loss: 0.2993427892450721\n",
            "*******************************\n",
            "Epoch 29 loss: 0.29919906920206\n",
            "*******************************\n",
            "Epoch 30 loss: 0.29905792921719365\n",
            "*******************************\n",
            "Epoch 31 loss: 0.29891929988869825\n",
            "*******************************\n",
            "Epoch 32 loss: 0.2987831188275117\n",
            "*******************************\n",
            "Epoch 33 loss: 0.29864932884529477\n",
            "*******************************\n",
            "Epoch 34 loss: 0.29851787668533863\n",
            "*******************************\n",
            "Epoch 35 loss: 0.29838871212888346\n",
            "*******************************\n",
            "Epoch 36 loss: 0.2982617873625775\n",
            "*******************************\n",
            "Epoch 37 loss: 0.29813705652839284\n",
            "*******************************\n",
            "Epoch 38 loss: 0.29801447540144466\n",
            "*******************************\n",
            "Epoch 39 loss: 0.29789400115769904\n",
            "*******************************\n",
            "Epoch 40 loss: 0.29777559220498323\n",
            "*******************************\n",
            "Epoch 41 loss: 0.29765920805865387\n",
            "*******************************\n",
            "Epoch 42 loss: 0.29754480924882415\n",
            "*******************************\n",
            "Epoch 43 loss: 0.29743235724993344\n",
            "*******************************\n",
            "Epoch 44 loss: 0.29732181442616884\n",
            "*******************************\n",
            "Epoch 45 loss: 0.29721314398816334\n",
            "*******************************\n",
            "Epoch 46 loss: 0.2971063099577444\n",
            "*******************************\n",
            "Epoch 47 loss: 0.2970012771384552\n",
            "*******************************\n",
            "Epoch 48 loss: 0.2968980110902427\n",
            "*******************************\n",
            "Epoch 49 loss: 0.29679647810717646\n",
            "*******************************\n",
            "Epoch 50 loss: 0.2966966451973951\n"
          ]
        }
      ]
    },
    {
      "cell_type": "code",
      "source": [
        "# plot avg loss\n",
        "df = pd.DataFrame(epoch_loss)\n",
        "df.plot(kind=\"line\", grid=True, figsize=(10,5))"
      ],
      "metadata": {
        "colab": {
          "base_uri": "https://localhost:8080/",
          "height": 467
        },
        "id": "242yVUblv5UG",
        "outputId": "342d929a-f41a-4c19-f988-da9d6c991042"
      },
      "execution_count": 135,
      "outputs": [
        {
          "output_type": "execute_result",
          "data": {
            "text/plain": [
              "<Axes: >"
            ]
          },
          "metadata": {},
          "execution_count": 135
        },
        {
          "output_type": "display_data",
          "data": {
            "text/plain": [
              "<Figure size 1000x500 with 1 Axes>"
            ],
            "image/png": "[encoded data removed]"
          },
          "metadata": {}
        }
      ]
    }
  ]
}